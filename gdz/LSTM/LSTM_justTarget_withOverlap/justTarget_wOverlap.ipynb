{
 "cells": [
  {
   "cell_type": "code",
   "execution_count": 1,
   "metadata": {},
   "outputs": [],
   "source": [
    "import numpy as np\n",
    "import pandas as pd\n",
    "\n",
    "import matplotlib.pyplot as plt\n",
    "import seaborn as sns\n",
    "\n",
    "import warnings\n",
    "warnings.filterwarnings('ignore')"
   ]
  },
  {
   "attachments": {},
   "cell_type": "markdown",
   "metadata": {},
   "source": [
    "# Read the Data"
   ]
  },
  {
   "cell_type": "code",
   "execution_count": 2,
   "metadata": {},
   "outputs": [
    {
     "data": {
      "text/html": [
       "<div>\n",
       "<style scoped>\n",
       "    .dataframe tbody tr th:only-of-type {\n",
       "        vertical-align: middle;\n",
       "    }\n",
       "\n",
       "    .dataframe tbody tr th {\n",
       "        vertical-align: top;\n",
       "    }\n",
       "\n",
       "    .dataframe thead th {\n",
       "        text-align: right;\n",
       "    }\n",
       "</style>\n",
       "<table border=\"1\" class=\"dataframe\">\n",
       "  <thead>\n",
       "    <tr style=\"text-align: right;\">\n",
       "      <th></th>\n",
       "      <th>Dağıtılan Enerji (MWh)</th>\n",
       "    </tr>\n",
       "    <tr>\n",
       "      <th>Tarih</th>\n",
       "      <th></th>\n",
       "    </tr>\n",
       "  </thead>\n",
       "  <tbody>\n",
       "    <tr>\n",
       "      <th>2018-01-01 00:00:00</th>\n",
       "      <td>1593.944216</td>\n",
       "    </tr>\n",
       "    <tr>\n",
       "      <th>2018-01-01 01:00:00</th>\n",
       "      <td>1513.933887</td>\n",
       "    </tr>\n",
       "    <tr>\n",
       "      <th>2018-01-01 02:00:00</th>\n",
       "      <td>1402.612637</td>\n",
       "    </tr>\n",
       "    <tr>\n",
       "      <th>2018-01-01 03:00:00</th>\n",
       "      <td>1278.527266</td>\n",
       "    </tr>\n",
       "    <tr>\n",
       "      <th>2018-01-01 04:00:00</th>\n",
       "      <td>1220.697701</td>\n",
       "    </tr>\n",
       "  </tbody>\n",
       "</table>\n",
       "</div>"
      ],
      "text/plain": [
       "                     Dağıtılan Enerji (MWh)\n",
       "Tarih                                      \n",
       "2018-01-01 00:00:00             1593.944216\n",
       "2018-01-01 01:00:00             1513.933887\n",
       "2018-01-01 02:00:00             1402.612637\n",
       "2018-01-01 03:00:00             1278.527266\n",
       "2018-01-01 04:00:00             1220.697701"
      ]
     },
     "execution_count": 2,
     "metadata": {},
     "output_type": "execute_result"
    }
   ],
   "source": [
    "data = pd.read_csv(\"train.csv\" , parse_dates=['Tarih'] , index_col='Tarih')\n",
    "# data.set_index('Tarih' , drop= True , inplace=True)\n",
    "data.head()"
   ]
  },
  {
   "cell_type": "code",
   "execution_count": 3,
   "metadata": {},
   "outputs": [
    {
     "data": {
      "text/html": [
       "<div>\n",
       "<style scoped>\n",
       "    .dataframe tbody tr th:only-of-type {\n",
       "        vertical-align: middle;\n",
       "    }\n",
       "\n",
       "    .dataframe tbody tr th {\n",
       "        vertical-align: top;\n",
       "    }\n",
       "\n",
       "    .dataframe thead th {\n",
       "        text-align: right;\n",
       "    }\n",
       "</style>\n",
       "<table border=\"1\" class=\"dataframe\">\n",
       "  <thead>\n",
       "    <tr style=\"text-align: right;\">\n",
       "      <th></th>\n",
       "      <th>Dağıtılan Enerji (MWh)</th>\n",
       "    </tr>\n",
       "    <tr>\n",
       "      <th>Tarih</th>\n",
       "      <th></th>\n",
       "    </tr>\n",
       "  </thead>\n",
       "  <tbody>\n",
       "    <tr>\n",
       "      <th>2022-08-01 00:00:00</th>\n",
       "      <td>NaN</td>\n",
       "    </tr>\n",
       "    <tr>\n",
       "      <th>2022-08-01 01:00:00</th>\n",
       "      <td>NaN</td>\n",
       "    </tr>\n",
       "    <tr>\n",
       "      <th>2022-08-01 02:00:00</th>\n",
       "      <td>NaN</td>\n",
       "    </tr>\n",
       "    <tr>\n",
       "      <th>2022-08-01 03:00:00</th>\n",
       "      <td>NaN</td>\n",
       "    </tr>\n",
       "    <tr>\n",
       "      <th>2022-08-01 04:00:00</th>\n",
       "      <td>NaN</td>\n",
       "    </tr>\n",
       "  </tbody>\n",
       "</table>\n",
       "</div>"
      ],
      "text/plain": [
       "                     Dağıtılan Enerji (MWh)\n",
       "Tarih                                      \n",
       "2022-08-01 00:00:00                     NaN\n",
       "2022-08-01 01:00:00                     NaN\n",
       "2022-08-01 02:00:00                     NaN\n",
       "2022-08-01 03:00:00                     NaN\n",
       "2022-08-01 04:00:00                     NaN"
      ]
     },
     "execution_count": 3,
     "metadata": {},
     "output_type": "execute_result"
    }
   ],
   "source": [
    "future_data = pd.read_csv(\"future.csv\", parse_dates=['Tarih'] , index_col= 'Tarih').drop('Unnamed: 0' , axis = 1)\n",
    "future_data.head()"
   ]
  },
  {
   "cell_type": "code",
   "execution_count": 4,
   "metadata": {},
   "outputs": [
    {
     "data": {
      "text/html": [
       "<div>\n",
       "<style scoped>\n",
       "    .dataframe tbody tr th:only-of-type {\n",
       "        vertical-align: middle;\n",
       "    }\n",
       "\n",
       "    .dataframe tbody tr th {\n",
       "        vertical-align: top;\n",
       "    }\n",
       "\n",
       "    .dataframe thead th {\n",
       "        text-align: right;\n",
       "    }\n",
       "</style>\n",
       "<table border=\"1\" class=\"dataframe\">\n",
       "  <thead>\n",
       "    <tr style=\"text-align: right;\">\n",
       "      <th></th>\n",
       "      <th>Tarih</th>\n",
       "    </tr>\n",
       "  </thead>\n",
       "  <tbody>\n",
       "    <tr>\n",
       "      <th>0</th>\n",
       "      <td>2019-12-23</td>\n",
       "    </tr>\n",
       "    <tr>\n",
       "      <th>1</th>\n",
       "      <td>2019-06-12</td>\n",
       "    </tr>\n",
       "    <tr>\n",
       "      <th>2</th>\n",
       "      <td>2019-01-25</td>\n",
       "    </tr>\n",
       "    <tr>\n",
       "      <th>3</th>\n",
       "      <td>2019-09-25</td>\n",
       "    </tr>\n",
       "    <tr>\n",
       "      <th>4</th>\n",
       "      <td>2019-03-29</td>\n",
       "    </tr>\n",
       "  </tbody>\n",
       "</table>\n",
       "</div>"
      ],
      "text/plain": [
       "       Tarih\n",
       "0 2019-12-23\n",
       "1 2019-06-12\n",
       "2 2019-01-25\n",
       "3 2019-09-25\n",
       "4 2019-03-29"
      ]
     },
     "execution_count": 4,
     "metadata": {},
     "output_type": "execute_result"
    }
   ],
   "source": [
    "med = pd.read_csv('med.csv')\n",
    "med['Tarih'] = pd.to_datetime(med['Tarih'])\n",
    "med.head()"
   ]
  },
  {
   "attachments": {},
   "cell_type": "markdown",
   "metadata": {},
   "source": [
    "# Decribe the Data"
   ]
  },
  {
   "cell_type": "code",
   "execution_count": 5,
   "metadata": {},
   "outputs": [
    {
     "data": {
      "text/plain": [
       "(40152, 1)"
      ]
     },
     "execution_count": 5,
     "metadata": {},
     "output_type": "execute_result"
    }
   ],
   "source": [
    "data.shape"
   ]
  },
  {
   "cell_type": "code",
   "execution_count": 6,
   "metadata": {},
   "outputs": [
    {
     "name": "stdout",
     "output_type": "stream",
     "text": [
      "<class 'pandas.core.frame.DataFrame'>\n",
      "DatetimeIndex: 40152 entries, 2018-01-01 00:00:00 to 2022-07-31 23:00:00\n",
      "Data columns (total 1 columns):\n",
      " #   Column                  Non-Null Count  Dtype  \n",
      "---  ------                  --------------  -----  \n",
      " 0   Dağıtılan Enerji (MWh)  40152 non-null  float64\n",
      "dtypes: float64(1)\n",
      "memory usage: 627.4 KB\n"
     ]
    }
   ],
   "source": [
    "data.info()"
   ]
  },
  {
   "cell_type": "code",
   "execution_count": 7,
   "metadata": {},
   "outputs": [
    {
     "data": {
      "text/html": [
       "<div>\n",
       "<style scoped>\n",
       "    .dataframe tbody tr th:only-of-type {\n",
       "        vertical-align: middle;\n",
       "    }\n",
       "\n",
       "    .dataframe tbody tr th {\n",
       "        vertical-align: top;\n",
       "    }\n",
       "\n",
       "    .dataframe thead th {\n",
       "        text-align: right;\n",
       "    }\n",
       "</style>\n",
       "<table border=\"1\" class=\"dataframe\">\n",
       "  <thead>\n",
       "    <tr style=\"text-align: right;\">\n",
       "      <th></th>\n",
       "      <th>count</th>\n",
       "      <th>mean</th>\n",
       "      <th>std</th>\n",
       "      <th>min</th>\n",
       "      <th>25%</th>\n",
       "      <th>50%</th>\n",
       "      <th>75%</th>\n",
       "      <th>max</th>\n",
       "    </tr>\n",
       "  </thead>\n",
       "  <tbody>\n",
       "    <tr>\n",
       "      <th>Dağıtılan Enerji (MWh)</th>\n",
       "      <td>40152.0</td>\n",
       "      <td>1836.805287</td>\n",
       "      <td>426.066085</td>\n",
       "      <td>870.18328</td>\n",
       "      <td>1499.165048</td>\n",
       "      <td>1813.409221</td>\n",
       "      <td>2129.407998</td>\n",
       "      <td>3633.105297</td>\n",
       "    </tr>\n",
       "  </tbody>\n",
       "</table>\n",
       "</div>"
      ],
      "text/plain": [
       "                          count         mean         std        min  \\\n",
       "Dağıtılan Enerji (MWh)  40152.0  1836.805287  426.066085  870.18328   \n",
       "\n",
       "                                25%          50%          75%          max  \n",
       "Dağıtılan Enerji (MWh)  1499.165048  1813.409221  2129.407998  3633.105297  "
      ]
     },
     "execution_count": 7,
     "metadata": {},
     "output_type": "execute_result"
    }
   ],
   "source": [
    "data.describe().T"
   ]
  },
  {
   "attachments": {},
   "cell_type": "markdown",
   "metadata": {},
   "source": [
    "# Plot the Data"
   ]
  },
  {
   "cell_type": "code",
   "execution_count": null,
   "metadata": {},
   "outputs": [],
   "source": []
  },
  {
   "cell_type": "code",
   "execution_count": null,
   "metadata": {},
   "outputs": [],
   "source": []
  },
  {
   "attachments": {},
   "cell_type": "markdown",
   "metadata": {},
   "source": [
    "# Train | Test Split"
   ]
  },
  {
   "cell_type": "code",
   "execution_count": 8,
   "metadata": {},
   "outputs": [],
   "source": [
    "X_data_temp = data.copy()\n",
    "X_train_temp = data.loc[data.index <= '2022-02-23 23:00:00'].copy()\n",
    "X_test_temp = data.loc[data.index > '2022-02-23 23:00:00'].copy()"
   ]
  },
  {
   "cell_type": "code",
   "execution_count": 9,
   "metadata": {},
   "outputs": [
    {
     "name": "stdout",
     "output_type": "stream",
     "text": [
      "X_data Shape : (40152, 1)\n",
      "X_train Shape : (36360, 1)\n",
      "X_test Shape : (3792, 1)\n"
     ]
    }
   ],
   "source": [
    "print(f\"X_data Shape : {X_data_temp.shape}\")\n",
    "print(f\"X_train Shape : {X_train_temp.shape}\")\n",
    "print(f\"X_test Shape : {X_test_temp.shape}\")"
   ]
  },
  {
   "attachments": {},
   "cell_type": "markdown",
   "metadata": {},
   "source": [
    "# Scaling"
   ]
  },
  {
   "cell_type": "code",
   "execution_count": 10,
   "metadata": {},
   "outputs": [],
   "source": [
    "from sklearn.preprocessing import MinMaxScaler\n",
    "\n",
    "scaler = MinMaxScaler(feature_range=(0,1))\n",
    "X_data_scaled = scaler.fit_transform(X_data_temp)\n",
    "X_train_scaled = scaler.transform(X_train_temp)\n",
    "X_test_scaled = scaler.transform(X_test_temp)"
   ]
  },
  {
   "attachments": {},
   "cell_type": "markdown",
   "metadata": {},
   "source": [
    "# Reshape and Packages"
   ]
  },
  {
   "attachments": {},
   "cell_type": "markdown",
   "metadata": {},
   "source": [
    "Critical point !"
   ]
  },
  {
   "cell_type": "code",
   "execution_count": 11,
   "metadata": {},
   "outputs": [],
   "source": [
    "def packager(X_data_scaled , X_train_scaled, X_test_scaled, window_size=24):\n",
    "    X_data , y_data , X_train, y_train, X_test, y_test = [], [], [], [], [], []\n",
    "    \n",
    "    \n",
    "    for i in range(window_size, len(X_data_scaled)):\n",
    "        X_data.append(X_data_scaled[i-window_size:i, 0])\n",
    "        y_data.append(X_data_scaled[i, 0])\n",
    "\n",
    "    for i in range(window_size, len(X_train_scaled)):\n",
    "        X_train.append(X_train_scaled[i-window_size:i, 0])\n",
    "        y_train.append(X_train_scaled[i, 0])\n",
    "\n",
    "    for i in range(window_size, len(X_test_scaled)):\n",
    "        X_test.append(X_test_scaled[i-window_size:i, 0])\n",
    "        y_test.append(X_test_scaled[i, 0])\n",
    "\n",
    "    X_data, y_data = np.array(X_data), np.array(y_data)\n",
    "    X_train, y_train = np.array(X_train), np.array(y_train)\n",
    "    X_test, y_test = np.array(X_test), np.array(y_test)\n",
    "\n",
    "    X_data = np.reshape(X_data, (X_data.shape[0], X_train.shape[1], 1))\n",
    "    X_train = np.reshape(X_train, (X_train.shape[0], X_train.shape[1], 1))\n",
    "    X_test = np.reshape(X_test, (X_test.shape[0], X_test.shape[1], 1))\n",
    "\n",
    "    return X_data , y_data , X_train, y_train, X_test, y_test"
   ]
  },
  {
   "cell_type": "code",
   "execution_count": 12,
   "metadata": {},
   "outputs": [],
   "source": [
    "X_data , y_data , X_train, y_train, X_test, y_test = packager(X_data_scaled , X_train_scaled, X_test_scaled, 24)"
   ]
  },
  {
   "cell_type": "code",
   "execution_count": 13,
   "metadata": {},
   "outputs": [
    {
     "name": "stdout",
     "output_type": "stream",
     "text": [
      "X_data Shape : (40128, 24, 1)\n",
      "y_data Shape : (40128,)\n",
      "\n",
      "\n",
      "X_train Shape : (36336, 24, 1)\n",
      "y_train Shape : (36336,)\n",
      "\n",
      "\n",
      "X_test Shape : (3768, 24, 1)\n",
      "y_test Shape : (3768,)\n"
     ]
    }
   ],
   "source": [
    "print(f\"X_data Shape : {X_data.shape}\")\n",
    "print(f\"y_data Shape : {y_data.shape}\\n\\n\")\n",
    "print(f\"X_train Shape : {X_train.shape}\")\n",
    "print(f\"y_train Shape : {y_train.shape}\\n\\n\")\n",
    "print(f\"X_test Shape : {X_test.shape}\")\n",
    "print(f\"y_test Shape : {y_test.shape}\")"
   ]
  },
  {
   "attachments": {},
   "cell_type": "markdown",
   "metadata": {},
   "source": [
    "# Final Model"
   ]
  },
  {
   "cell_type": "code",
   "execution_count": 14,
   "metadata": {},
   "outputs": [],
   "source": [
    "import tensorflow as tf\n",
    "\n",
    "# Seed ayarlamak\n",
    "seed_value = 53\n",
    "tf.keras.utils.set_random_seed(seed_value)"
   ]
  },
  {
   "attachments": {},
   "cell_type": "markdown",
   "metadata": {},
   "source": [
    "## Manual Modelling"
   ]
  },
  {
   "cell_type": "code",
   "execution_count": 15,
   "metadata": {},
   "outputs": [
    {
     "name": "stdout",
     "output_type": "stream",
     "text": [
      "\n",
      "      Model eğitiminde kullandığımız dataların shapeleri\n",
      "      X_data : (40128, 24, 1)\n",
      "      y_data : (40128,)\n",
      "      X_test : (3768, 24, 1)\n",
      "      y_test : (3768,)\n",
      "      \n"
     ]
    }
   ],
   "source": [
    "print(f\"\"\"\n",
    "      Model eğitiminde kullandığımız dataların shapeleri\n",
    "      X_data : {X_data.shape}\n",
    "      y_data : {y_data.shape}\n",
    "      X_test : {X_test.shape}\n",
    "      y_test : {y_test.shape}\n",
    "      \"\"\")"
   ]
  },
  {
   "cell_type": "code",
   "execution_count": 16,
   "metadata": {},
   "outputs": [],
   "source": [
    "# from keras.models import Sequential\n",
    "# from keras.layers import LSTM, Dense , BatchNormalization , Dropout\n",
    "# from keras.callbacks import ModelCheckpoint, ReduceLROnPlateau , EarlyStopping\n",
    "# from keras.optimizers import Adam\n",
    "# from keras.losses import MeanAbsolutePercentageError\n",
    "\n",
    "\n",
    "# # Model oluşturma\n",
    "# model = Sequential()\n",
    "# model.add(LSTM(24, activation='tanh' , input_shape = (X_data.shape[1],X_data.shape[2]) ,return_sequences=True))\n",
    "# model.add(LSTM(12, activation='tanh'  , return_sequences=False))\n",
    "# model.add(Dense(1))\n",
    "\n",
    "# opt = Adam(learning_rate = 0.001)\n",
    "# model.compile(loss= MeanAbsolutePercentageError(), optimizer=opt)\n",
    "\n",
    "\n",
    "# reduce_lr = ReduceLROnPlateau(factor = 0.1 , patience=5)\n",
    "# early_stop = EarlyStopping(monitor='val_loss' , patience=7)\n",
    "# model_check = ModelCheckpoint(filepath=r'C:\\Users\\Emincan\\Desktop\\Gdz\\gdz-competition\\Checkpoints\\Single_Target\\\\24-12\\\\model-{epoch:03d}-{val_loss:.5f}.h5', monitor=\"val_loss\", verbose=1)\n",
    "\n",
    "# # # Modeli eğitme\n",
    "# history = model.fit(X_data, y_data, epochs=25, batch_size= 1, validation_split=0.1, callbacks= [reduce_lr , early_stop, model_check] , shuffle=False)\n",
    "\n",
    "\n",
    "# # Modeli değerlendirme\n",
    "# mape_score = model.evaluate(X_test, y_test)\n",
    "# print('Test MAPE: %.3f' % mape_score)"
   ]
  },
  {
   "attachments": {},
   "cell_type": "markdown",
   "metadata": {},
   "source": [
    "### Plot the Model History"
   ]
  },
  {
   "cell_type": "code",
   "execution_count": 17,
   "metadata": {},
   "outputs": [],
   "source": [
    "# # summarize history for loss\n",
    "# plt.plot(history.history['loss'])\n",
    "# plt.plot(history.history['val_loss'])\n",
    "\n",
    "# plt.title('model loss')\n",
    "# plt.ylabel('loss')\n",
    "# plt.xlabel('epoch')\n",
    "# plt.legend(['train', 'test'], loc='upper right')\n",
    "\n",
    "# plt.show()"
   ]
  },
  {
   "attachments": {},
   "cell_type": "markdown",
   "metadata": {},
   "source": [
    "## Import the Model"
   ]
  },
  {
   "cell_type": "code",
   "execution_count": 18,
   "metadata": {},
   "outputs": [],
   "source": [
    "# from tensorflow.keras.models import load_model\n",
    "\n",
    "# model = load_model(r\"C:\\Users\\Emincan\\Desktop\\Gdz\\gdz-competition\\Checkpoints\\Single_Target\\\\24-12\\\\model-017-6.30094.h5\")"
   ]
  },
  {
   "attachments": {},
   "cell_type": "markdown",
   "metadata": {},
   "source": [
    "# Eval Metric"
   ]
  },
  {
   "cell_type": "code",
   "execution_count": 19,
   "metadata": {},
   "outputs": [],
   "source": [
    "# from eval_metrics import eval_metrics\n",
    "\n",
    "# y_pred = model.predict(X_test)\n",
    "\n",
    "# eval_metrics(y_test , y_pred)"
   ]
  },
  {
   "attachments": {},
   "cell_type": "markdown",
   "metadata": {},
   "source": [
    "# Prediction"
   ]
  },
  {
   "cell_type": "code",
   "execution_count": 20,
   "metadata": {},
   "outputs": [
    {
     "name": "stdout",
     "output_type": "stream",
     "text": [
      "\n",
      "      Model eğitiminde kullandığımız dataların shapeleri\n",
      "      X_data : (40128, 24, 1)\n",
      "      y_data : (40128,)\n",
      "      X_test : (3768, 24, 1)\n",
      "      y_test : (3768,)\n",
      "      \n",
      "Modelin tahminlerinin alacağı future_data shape'i : (744, 1)\n"
     ]
    }
   ],
   "source": [
    "print(f\"\"\"\n",
    "      Model eğitiminde kullandığımız dataların shapeleri\n",
    "      X_data : {X_data.shape}\n",
    "      y_data : {y_data.shape}\n",
    "      X_test : {X_test.shape}\n",
    "      y_test : {y_test.shape}\n",
    "      \"\"\")\n",
    "\n",
    "\n",
    "print(f\"Modelin tahminlerinin alacağı future_data shape'i : {future_data.shape}\")"
   ]
  },
  {
   "cell_type": "code",
   "execution_count": 21,
   "metadata": {},
   "outputs": [],
   "source": [
    "# # Elimizdeki verilerin son 24'ü bir sonraki tahmini yapmak için kullanılacak\n",
    "# last_window = X_data[-1:, :, :]\n",
    "\n",
    "# # 31 gün boyunca gelecek tahminleri yapmak için bir boş tahmin dizisi oluşturun\n",
    "# forecasts = []\n",
    "\n",
    "# for i in range(31*24):\n",
    "#     # Tahmin edilen değerleri ölçeklendirmek için son pencereyi yeniden şekillendirin\n",
    "#     last_window_reshaped = last_window.reshape(1, 24, 1)\n",
    "\n",
    "#     # Son pencereyi kullanarak bir tahmin yapın\n",
    "#     forecast = model.predict(last_window_reshaped , verbose=0)[0][0]\n",
    "\n",
    "#     # Tahmini tahmin listesine ekleyin\n",
    "#     forecasts.append(forecast)\n",
    "\n",
    "#     # Tahmin edilen değeri son pencerenin sonuna ekleyin\n",
    "#     last_window = np.append(last_window[:,1:,:] , np.array([[[forecast]]]) , axis = 1)\n",
    "\n",
    "    \n",
    "# # Tahminleri geri ölçeklendirin\n",
    "# forecasts = scaler.inverse_transform(np.array(forecasts).reshape(-1, 1))\n",
    "\n",
    "# forecasts"
   ]
  },
  {
   "attachments": {},
   "cell_type": "markdown",
   "metadata": {},
   "source": [
    "# Visualize the Predictions"
   ]
  },
  {
   "cell_type": "code",
   "execution_count": 22,
   "metadata": {},
   "outputs": [],
   "source": [
    "from eval_metrics import preds_plot"
   ]
  },
  {
   "cell_type": "code",
   "execution_count": 23,
   "metadata": {},
   "outputs": [],
   "source": [
    "anomaly_data = data[20900:21500]"
   ]
  },
  {
   "cell_type": "code",
   "execution_count": 27,
   "metadata": {},
   "outputs": [
    {
     "data": {
      "text/html": [
       "<div>\n",
       "<style scoped>\n",
       "    .dataframe tbody tr th:only-of-type {\n",
       "        vertical-align: middle;\n",
       "    }\n",
       "\n",
       "    .dataframe tbody tr th {\n",
       "        vertical-align: top;\n",
       "    }\n",
       "\n",
       "    .dataframe thead th {\n",
       "        text-align: right;\n",
       "    }\n",
       "</style>\n",
       "<table border=\"1\" class=\"dataframe\">\n",
       "  <thead>\n",
       "    <tr style=\"text-align: right;\">\n",
       "      <th></th>\n",
       "      <th>Dağıtılan Enerji (MWh)</th>\n",
       "    </tr>\n",
       "    <tr>\n",
       "      <th>Tarih</th>\n",
       "      <th></th>\n",
       "    </tr>\n",
       "  </thead>\n",
       "  <tbody>\n",
       "    <tr>\n",
       "      <th>2022-08-01 00:00:00</th>\n",
       "      <td>2122.429064</td>\n",
       "    </tr>\n",
       "    <tr>\n",
       "      <th>2022-08-01 01:00:00</th>\n",
       "      <td>2023.463577</td>\n",
       "    </tr>\n",
       "    <tr>\n",
       "      <th>2022-08-01 02:00:00</th>\n",
       "      <td>1923.302808</td>\n",
       "    </tr>\n",
       "    <tr>\n",
       "      <th>2022-08-01 03:00:00</th>\n",
       "      <td>1813.704469</td>\n",
       "    </tr>\n",
       "    <tr>\n",
       "      <th>2022-08-01 04:00:00</th>\n",
       "      <td>1794.844489</td>\n",
       "    </tr>\n",
       "    <tr>\n",
       "      <th>...</th>\n",
       "      <td>...</td>\n",
       "    </tr>\n",
       "    <tr>\n",
       "      <th>2022-08-31 19:00:00</th>\n",
       "      <td>2516.742715</td>\n",
       "    </tr>\n",
       "    <tr>\n",
       "      <th>2022-08-31 20:00:00</th>\n",
       "      <td>2497.434030</td>\n",
       "    </tr>\n",
       "    <tr>\n",
       "      <th>2022-08-31 21:00:00</th>\n",
       "      <td>2434.572848</td>\n",
       "    </tr>\n",
       "    <tr>\n",
       "      <th>2022-08-31 22:00:00</th>\n",
       "      <td>2343.029183</td>\n",
       "    </tr>\n",
       "    <tr>\n",
       "      <th>2022-08-31 23:00:00</th>\n",
       "      <td>2238.115103</td>\n",
       "    </tr>\n",
       "  </tbody>\n",
       "</table>\n",
       "<p>744 rows × 1 columns</p>\n",
       "</div>"
      ],
      "text/plain": [
       "                     Dağıtılan Enerji (MWh)\n",
       "Tarih                                      \n",
       "2022-08-01 00:00:00             2122.429064\n",
       "2022-08-01 01:00:00             2023.463577\n",
       "2022-08-01 02:00:00             1923.302808\n",
       "2022-08-01 03:00:00             1813.704469\n",
       "2022-08-01 04:00:00             1794.844489\n",
       "...                                     ...\n",
       "2022-08-31 19:00:00             2516.742715\n",
       "2022-08-31 20:00:00             2497.434030\n",
       "2022-08-31 21:00:00             2434.572848\n",
       "2022-08-31 22:00:00             2343.029183\n",
       "2022-08-31 23:00:00             2238.115103\n",
       "\n",
       "[744 rows x 1 columns]"
      ]
     },
     "execution_count": 27,
     "metadata": {},
     "output_type": "execute_result"
    }
   ],
   "source": [
    "future_data2 = pd.read_csv(r'C:\\Users\\Emincan\\Downloads\\slm.csv' , parse_dates=['Tarih'] , index_col='Tarih')\n",
    "future_data2"
   ]
  },
  {
   "cell_type": "code",
   "execution_count": 28,
   "metadata": {},
   "outputs": [],
   "source": [
    "# future_data2['Dağıtılan Enerji (MWh)'] = future_data2[\"Dağıtılan Enerji (MWh)\"]\n",
    "# future_data2"
   ]
  },
  {
   "cell_type": "code",
   "execution_count": 29,
   "metadata": {},
   "outputs": [],
   "source": [
    "# future_data['Dağıtılan Enerji (MWh)'] = forecasts"
   ]
  },
  {
   "cell_type": "code",
   "execution_count": 30,
   "metadata": {},
   "outputs": [],
   "source": [
    "target_data = data[data.index.month == 8]"
   ]
  },
  {
   "cell_type": "code",
   "execution_count": null,
   "metadata": {},
   "outputs": [],
   "source": [
    "# data"
   ]
  },
  {
   "cell_type": "code",
   "execution_count": 31,
   "metadata": {},
   "outputs": [
    {
     "name": "stdout",
     "output_type": "stream",
     "text": [
      "Normal all data mean : [1836.80528683]\n",
      "\n",
      "Anomaly data mean : [1525.56498328]\n",
      "\n",
      "Target data mean : [2209.59026741]\n",
      "\n",
      "Future data mean : [2281.77279315]\n",
      "\n"
     ]
    }
   ],
   "source": [
    "print(f'Normal all data mean : {data.mean().values}\\n')\n",
    "print(f'Anomaly data mean : {anomaly_data.mean().values}\\n')\n",
    "print(f'Target data mean : {target_data.mean().values}\\n')\n",
    "print(f'Future data mean : {future_data2.mean().values}\\n')"
   ]
  },
  {
   "cell_type": "code",
   "execution_count": 32,
   "metadata": {},
   "outputs": [
    {
     "data": {
      "image/png": "[encoded data removed]",
      "text/plain": [
       "<Figure size 1600x1200 with 1 Axes>"
      ]
     },
     "metadata": {},
     "output_type": "display_data"
    }
   ],
   "source": [
    "plt.figure(figsize=(16,12) , dpi = 100)\n",
    "preds_plot(data , future_data2 , target_data , anomaly_data)"
   ]
  },
  {
   "cell_type": "code",
   "execution_count": null,
   "metadata": {},
   "outputs": [],
   "source": [
    "# Done"
   ]
  }
 ],
 "metadata": {
  "kernelspec": {
   "display_name": "Python 3",
   "language": "python",
   "name": "python3"
  },
  "language_info": {
   "codemirror_mode": {
    "name": "ipython",
    "version": 3
   },
   "file_extension": ".py",
   "mimetype": "text/x-python",
   "name": "python",
   "nbconvert_exporter": "python",
   "pygments_lexer": "ipython3",
   "version": "3.10.10"
  },
  "orig_nbformat": 4
 },
 "nbformat": 4,
 "nbformat_minor": 2
}
