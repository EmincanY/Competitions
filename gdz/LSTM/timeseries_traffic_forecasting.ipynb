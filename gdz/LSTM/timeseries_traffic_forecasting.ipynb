{
  "cells": [
    {
      "cell_type": "markdown",
      "metadata": {
        "id": "UaZkFimw2_8b"
      },
      "source": [
        "# Traffic forecasting using graph neural networks and LSTM\n",
        "\n",
        "**Author:** [Arash Khodadadi](https://www.linkedin.com/in/arash-khodadadi-08a02490/)<br>\n",
        "**Date created:** 2021/12/28<br>\n",
        "**Last modified:** 2021/12/28<br>\n",
        "**Description:** This example demonstrates how to do timeseries forecasting over graphs."
      ]
    },
    {
      "cell_type": "markdown",
      "metadata": {
        "id": "CjDoNWOT2_8d"
      },
      "source": [
        "## Introduction\n",
        "\n",
        "This example shows how to forecast traffic condition using graph neural networks and LSTM.\n",
        "Specifically, we are interested in predicting the future values of the traffic speed given\n",
        "a history of the traffic speed for a collection of road segments.\n",
        "\n",
        "One popular method to\n",
        "solve this problem is to consider each road segment's traffic speed as a separate\n",
        "timeseries and predict the future values of each timeseries\n",
        "using the past values of the same timeseries.\n",
        "\n",
        "This method, however, ignores the dependency of the traffic speed of one road segment on\n",
        "the neighboring segments. To be able to take into account the complex interactions between\n",
        "the traffic speed on a collection of neighboring roads, we can define the traffic network\n",
        "as a graph and consider the traffic speed as a signal on this graph. In this example,\n",
        "we implement a neural network architecture which can process timeseries data over a graph.\n",
        "We first show how to process the data and create a\n",
        "[tf.data.Dataset](https://www.tensorflow.org/api_docs/python/tf/data/Dataset) for\n",
        "forecasting over graphs. Then, we implement a model which uses graph convolution and\n",
        "LSTM layers to perform forecasting over a graph.\n",
        "\n",
        "The data processing and the model architecture are inspired by this paper:\n",
        "\n",
        "Yu, Bing, Haoteng Yin, and Zhanxing Zhu. \"Spatio-temporal graph convolutional networks:\n",
        "a deep learning framework for traffic forecasting.\" Proceedings of the 27th International\n",
        "Joint Conference on Artificial Intelligence, 2018.\n",
        "([github](https://github.com/VeritasYin/STGCN_IJCAI-18))"
      ]
    },
    {
      "cell_type": "markdown",
      "metadata": {
        "id": "SP-gGIQS2_8d"
      },
      "source": [
        "## Setup"
      ]
    },
    {
      "cell_type": "code",
      "execution_count": null,
      "metadata": {
        "id": "3Hu-qmzn2_8d"
      },
      "outputs": [],
      "source": [
        "import pandas as pd\n",
        "import numpy as np\n",
        "import os\n",
        "import typing\n",
        "import matplotlib.pyplot as plt\n",
        "\n",
        "import tensorflow as tf\n",
        "from tensorflow import keras\n",
        "from tensorflow.keras import layers"
      ]
    },
    {
      "cell_type": "markdown",
      "metadata": {
        "id": "HeHMwq9T2_8e"
      },
      "source": [
        "## Data preparation"
      ]
    },
    {
      "cell_type": "markdown",
      "metadata": {
        "id": "RcK6IdTv2_8e"
      },
      "source": [
        "### Data description\n",
        "\n",
        "We use a real-world traffic speed dataset named `PeMSD7`. We use the version\n",
        "collected and prepared by [Yu et al., 2018](https://arxiv.org/abs/1709.04875)\n",
        "and available\n",
        "[here](https://github.com/VeritasYin/STGCN_IJCAI-18/tree/master/data_loader).\n",
        "\n",
        "The data consists of two files:\n",
        "\n",
        "- `W_228.csv` contains the distances between 228\n",
        "stations across the District 7 of California.\n",
        "- `V_228.csv` contains traffic\n",
        "speed collected for those stations in the weekdays of May and June of 2012.\n",
        "\n",
        "The full description of the dataset can be found in\n",
        "[Yu et al., 2018](https://arxiv.org/abs/1709.04875)."
      ]
    },
    {
      "cell_type": "markdown",
      "metadata": {
        "id": "45KJMc7h2_8e"
      },
      "source": [
        "### Loading data"
      ]
    },
    {
      "cell_type": "code",
      "execution_count": null,
      "metadata": {
        "id": "wviQA7MT2_8e"
      },
      "outputs": [],
      "source": [
        "# url = \"https://github.com/VeritasYin/STGCN_IJCAI-18/raw/master/data_loader/PeMS-M.zip\"\n",
        "# data_dir = keras.utils.get_file(origin=url, extract=True, archive_format=\"zip\")\n",
        "# data_dir = data_dir.rstrip(\".zip\")\n",
        "\n",
        "route_distances = pd.read_csv(\n",
        "    \"train.csv\"\n",
        ")\n",
        "# speeds_array = pd.read_csv(os.path.join(data_dir, \"V_228.csv\"), header=None).to_numpy()\n",
        "\n",
        "print(f\"route_distances shape={route_distances.shape}\")\n",
        "# print(f\"speeds_array shape={speeds_array.shape}\")"
      ]
    },
    {
      "cell_type": "markdown",
      "metadata": {
        "id": "UOFTYPCi2_8e"
      },
      "source": [
        "### sub-sampling roads\n",
        "\n",
        "To reduce the problem size and make the training faster, we will only\n",
        "work with a sample of 26 roads out of the 228 roads in the dataset.\n",
        "We have chosen the roads by starting from road 0, choosing the 5 closest\n",
        "roads to it, and continuing this process until we get 25 roads. You can choose\n",
        "any other subset of the roads. We chose the roads in this way to increase the likelihood\n",
        "of having roads with correlated speed timeseries.\n",
        "`sample_routes` contains the IDs of the selected roads."
      ]
    },
    {
      "cell_type": "code",
      "execution_count": null,
      "metadata": {
        "id": "iym0nR8Z2_8f"
      },
      "outputs": [],
      "source": [
        "# sample_routes = [\n",
        "#     0,\n",
        "#     1,\n",
        "#     4,\n",
        "#     7,\n",
        "#     8,\n",
        "#     11,\n",
        "#     15,\n",
        "#     108,\n",
        "#     109,\n",
        "#     114,\n",
        "#     115,\n",
        "#     118,\n",
        "#     120,\n",
        "#     123,\n",
        "#     124,\n",
        "#     126,\n",
        "#     127,\n",
        "#     129,\n",
        "#     130,\n",
        "#     132,\n",
        "#     133,\n",
        "#     136,\n",
        "#     139,\n",
        "#     144,\n",
        "#     147,\n",
        "#     216,\n",
        "# ]\n",
        "# route_distances = route_distances[np.ix_(sample_routes, sample_routes)]\n",
        "# # speeds_array = speeds_array[:, sample_routes]\n",
        "\n",
        "# print(f\"route_distances shape={route_distances.shape}\")\n",
        "# print(f\"speeds_array shape={speeds_array.shape}\")"
      ]
    },
    {
      "cell_type": "markdown",
      "metadata": {
        "id": "PJQedc762_8f"
      },
      "source": [
        "### Data visualization\n",
        "\n",
        "Here are the timeseries of the traffic speed for two of the routes:"
      ]
    },
    {
      "cell_type": "code",
      "execution_count": null,
      "metadata": {
        "id": "ZF_n2-iR2_8f"
      },
      "outputs": [],
      "source": [
        "# plt.figure(figsize=(18, 6))\n",
        "# # plt.plot(speeds_array[:, [0, -1]])\n",
        "# plt.legend([\"route_0\", \"route_25\"])"
      ]
    },
    {
      "cell_type": "markdown",
      "metadata": {
        "id": "8ODp1sDS2_8f"
      },
      "source": [
        "We can also visualize the correlation between the timeseries in different routes."
      ]
    },
    {
      "cell_type": "code",
      "execution_count": null,
      "metadata": {
        "id": "o53yIIZa2_8f"
      },
      "outputs": [],
      "source": [
        "# plt.figure(figsize=(8, 8))\n",
        "# # plt.matshow(np.corrcoef(speeds_array.T), 0)\n",
        "# plt.xlabel(\"road number\")\n",
        "# plt.ylabel(\"road number\")"
      ]
    },
    {
      "cell_type": "markdown",
      "metadata": {
        "id": "f0ytYUYy2_8f"
      },
      "source": [
        "Using this correlation heatmap, we can see that for example the speed in\n",
        "routes 4, 5, 6 are highly correlated."
      ]
    },
    {
      "cell_type": "markdown",
      "metadata": {
        "id": "uS3UJdhL2_8f"
      },
      "source": [
        "### Splitting and normalizing data\n",
        "\n",
        "Next, we split the speed values array into train/validation/test sets,\n",
        "and normalize the resulting arrays:"
      ]
    },
    {
      "cell_type": "code",
      "execution_count": null,
      "metadata": {},
      "outputs": [],
      "source": [
        "route_distances"
      ]
    },
    {
      "cell_type": "code",
      "execution_count": null,
      "metadata": {},
      "outputs": [],
      "source": [
        "route_distances.info()"
      ]
    },
    {
      "cell_type": "code",
      "execution_count": null,
      "metadata": {
        "id": "JX_I0oRM2_8f"
      },
      "outputs": [],
      "source": [
        "train_size, val_size = 0.7, 0.1\n",
        "\n",
        "\n",
        "def preprocess(data_array: np.ndarray, train_size: float, val_size: float):\n",
        "    \"\"\"Splits data into train/val/test sets and normalizes the data.\n",
        "\n",
        "    Args:\n",
        "        data_array: ndarray of shape `(num_time_steps, num_routes)`\n",
        "        train_size: A float value between 0.0 and 1.0 that represent the proportion of the dataset\n",
        "            to include in the train split.\n",
        "        val_size: A float value between 0.0 and 1.0 that represent the proportion of the dataset\n",
        "            to include in the validation split.\n",
        "\n",
        "    Returns:\n",
        "        `train_array`, `val_array`, `test_array`\n",
        "    \"\"\"\n",
        "\n",
        "    num_time_steps = data_array.shape[0]\n",
        "    num_train, num_val = (\n",
        "        int(num_time_steps * train_size),\n",
        "        int(num_time_steps * val_size),\n",
        "    )\n",
        "    train_array = data_array[:num_train]\n",
        "    mean, std = train_array.mean(axis=0), train_array.std(axis=0)\n",
        "\n",
        "    train_array = (train_array - mean) / std\n",
        "    val_array = (data_array[num_train : (num_train + num_val)] - mean) / std\n",
        "    test_array = (data_array[(num_train + num_val) :] - mean) / std\n",
        "\n",
        "    return train_array, val_array, test_array\n",
        "\n",
        "\n",
        "train_array, val_array, test_array = preprocess(route_distances['Dağıtılan Enerji (MWh)'], train_size, val_size)\n",
        "\n",
        "print(f\"train set size: {train_array.shape}\")\n",
        "print(f\"validation set size: {val_array.shape}\")\n",
        "print(f\"test set size: {test_array.shape}\")"
      ]
    },
    {
      "cell_type": "markdown",
      "metadata": {
        "id": "h6ajFeyK2_8f"
      },
      "source": [
        "### Creating TensorFlow Datasets\n",
        "\n",
        "Next, we create the datasets for our forecasting problem. The forecasting problem\n",
        "can be stated as follows: given a sequence of the\n",
        "road speed values at times `t+1, t+2, ..., t+T`, we want to predict the future values of\n",
        "the roads speed for times `t+T+1, ..., t+T+h`. So for each time `t` the inputs to our\n",
        "model are `T` vectors each of size `N` and the targets are `h` vectors each of size `N`,\n",
        "where `N` is the number of roads."
      ]
    },
    {
      "cell_type": "markdown",
      "metadata": {
        "id": "Ct85Tbok2_8f"
      },
      "source": [
        "We use the Keras built-in function\n",
        "[`timeseries_dataset_from_array()`](https://www.tensorflow.org/api_docs/python/tf/keras/utils/timeseries_dataset_from_array).\n",
        "The function `create_tf_dataset()` below takes as input a `numpy.ndarray` and returns a\n",
        "`tf.data.Dataset`. In this function `input_sequence_length=T` and `forecast_horizon=h`.\n",
        "\n",
        "The argument `multi_horizon` needs more explanation. Assume `forecast_horizon=3`.\n",
        "If `multi_horizon=True` then the model will make a forecast for time steps\n",
        "`t+T+1, t+T+2, t+T+3`. So the target will have shape `(T,3)`. But if\n",
        "`multi_horizon=False`, the model will make a forecast only for time step `t+T+3` and\n",
        "so the target will have shape `(T, 1)`.\n",
        "\n",
        "You may notice that the input tensor in each batch has shape\n",
        "`(batch_size, input_sequence_length, num_routes, 1)`. The last dimension is added to\n",
        "make the model more general: at each time step, the input features for each raod may\n",
        "contain multiple timeseries. For instance, one might want to use temperature timeseries\n",
        "in addition to historical values of the speed as input features. In this example,\n",
        "however, the last dimension of the input is always 1.\n",
        "\n",
        "We use the last 12 values of the speed in each road to forecast the speed for 3 time\n",
        "steps ahead:"
      ]
    },
    {
      "cell_type": "code",
      "execution_count": null,
      "metadata": {
        "id": "xk6rSArT2_8g"
      },
      "outputs": [],
      "source": [
        "from tensorflow.keras.preprocessing import timeseries_dataset_from_array\n",
        "\n",
        "batch_size = 64\n",
        "input_sequence_length = 24\n",
        "forecast_horizon = 3\n",
        "multi_horizon = False\n",
        "\n",
        "\n",
        "def create_tf_dataset(\n",
        "    data_array: np.ndarray,\n",
        "    input_sequence_length: int,\n",
        "    forecast_horizon: int,\n",
        "    batch_size: int = 128,\n",
        "    shuffle=True,\n",
        "    multi_horizon=True,\n",
        "):\n",
        "    \"\"\"Creates tensorflow dataset from numpy array.\n",
        "\n",
        "    This function creates a dataset where each element is a tuple `(inputs, targets)`.\n",
        "    `inputs` is a Tensor\n",
        "    of shape `(batch_size, input_sequence_length, num_routes, 1)` containing\n",
        "    the `input_sequence_length` past values of the timeseries for each node.\n",
        "    `targets` is a Tensor of shape `(batch_size, forecast_horizon, num_routes)`\n",
        "    containing the `forecast_horizon`\n",
        "    future values of the timeseries for each node.\n",
        "\n",
        "    Args:\n",
        "        data_array: np.ndarray with shape `(num_time_steps, num_routes)`\n",
        "        input_sequence_length: Length of the input sequence (in number of timesteps).\n",
        "        forecast_horizon: If `multi_horizon=True`, the target will be the values of the timeseries for 1 to\n",
        "            `forecast_horizon` timesteps ahead. If `multi_horizon=False`, the target will be the value of the\n",
        "            timeseries `forecast_horizon` steps ahead (only one value).\n",
        "        batch_size: Number of timeseries samples in each batch.\n",
        "        shuffle: Whether to shuffle output samples, or instead draw them in chronological order.\n",
        "        multi_horizon: See `forecast_horizon`.\n",
        "\n",
        "    Returns:\n",
        "        A tf.data.Dataset instance.\n",
        "    \"\"\"\n",
        "\n",
        "    inputs = timeseries_dataset_from_array(\n",
        "        np.expand_dims(data_array[:-forecast_horizon], axis=-1),\n",
        "        None,\n",
        "        sequence_length=input_sequence_length,\n",
        "        shuffle=False,\n",
        "        batch_size=batch_size,\n",
        "    )\n",
        "\n",
        "    target_offset = (\n",
        "        input_sequence_length\n",
        "        if multi_horizon\n",
        "        else input_sequence_length + forecast_horizon - 1\n",
        "    )\n",
        "    target_seq_length = forecast_horizon if multi_horizon else 1\n",
        "    targets = timeseries_dataset_from_array(\n",
        "        data_array[target_offset:],\n",
        "        None,\n",
        "        sequence_length=target_seq_length,\n",
        "        shuffle=False,\n",
        "        batch_size=batch_size,\n",
        "    )\n",
        "\n",
        "    dataset = tf.data.Dataset.zip((inputs, targets))\n",
        "    if shuffle:\n",
        "        dataset = dataset.shuffle(100)\n",
        "\n",
        "    return dataset.prefetch(16).cache()\n",
        "\n",
        "\n",
        "train_dataset, val_dataset = (\n",
        "    create_tf_dataset(data_array, input_sequence_length, forecast_horizon, batch_size)\n",
        "    for data_array in [train_array, val_array]\n",
        ")\n",
        "\n",
        "test_dataset = create_tf_dataset(\n",
        "    test_array,\n",
        "    input_sequence_length,\n",
        "    forecast_horizon,\n",
        "    batch_size=test_array.shape[0],\n",
        "    shuffle=False,\n",
        "    multi_horizon=multi_horizon,\n",
        ")\n"
      ]
    },
    {
      "cell_type": "code",
      "execution_count": null,
      "metadata": {},
      "outputs": [],
      "source": [
        "next(iter(test_dataset))"
      ]
    },
    {
      "cell_type": "markdown",
      "metadata": {
        "id": "zIH3aUfQ2_8g"
      },
      "source": [
        "### Roads Graph\n",
        "\n",
        "As mentioned before, we assume that the road segments form a graph.\n",
        "The `PeMSD7` dataset has the road segments distance. The next step\n",
        "is to create the graph adjacency matrix from these distances. Following\n",
        "[Yu et al., 2018](https://arxiv.org/abs/1709.04875) (equation 10) we assume there\n",
        "is an edge between two nodes in the graph if the distance between the corresponding roads\n",
        "is less than a threshold."
      ]
    },
    {
      "cell_type": "code",
      "execution_count": null,
      "metadata": {
        "id": "b2vi4yPl2_8g"
      },
      "outputs": [],
      "source": [
        "\n",
        "def compute_adjacency_matrix(\n",
        "    route_distances: np.ndarray, sigma2: float, epsilon: float\n",
        "):\n",
        "    \"\"\"Computes the adjacency matrix from distances matrix.\n",
        "\n",
        "    It uses the formula in https://github.com/VeritasYin/STGCN_IJCAI-18#data-preprocessing to\n",
        "    compute an adjacency matrix from the distance matrix.\n",
        "    The implementation follows that paper.\n",
        "\n",
        "    Args:\n",
        "        route_distances: np.ndarray of shape `(num_routes, num_routes)`. Entry `i,j` of this array is the\n",
        "            distance between roads `i,j`.\n",
        "        sigma2: Determines the width of the Gaussian kernel applied to the square distances matrix.\n",
        "        epsilon: A threshold specifying if there is an edge between two nodes. Specifically, `A[i,j]=1`\n",
        "            if `np.exp(-w2[i,j] / sigma2) >= epsilon` and `A[i,j]=0` otherwise, where `A` is the adjacency\n",
        "            matrix and `w2=route_distances * route_distances`\n",
        "\n",
        "    Returns:\n",
        "        A boolean graph adjacency matrix.\n",
        "    \"\"\"\n",
        "    route_distances = np.expand_dims(route_distances, -1)\n",
        "    num_routes = route_distances.shape[0]\n",
        "    route_distances = route_distances / 10000.0\n",
        "    w2, w_mask = (\n",
        "        route_distances * route_distances,\n",
        "        np.ones([num_routes, num_routes]) - np.identity(num_routes),\n",
        "    )\n",
        "    print(w2)\n",
        "    print(w_mask)\n",
        "    return (np.exp(-w2 / sigma2) >= epsilon) * w_mask\n"
      ]
    },
    {
      "cell_type": "markdown",
      "metadata": {
        "id": "U7FzXfaU2_8g"
      },
      "source": [
        "The function `compute_adjacency_matrix()` returns a boolean adjacency matrix\n",
        "where 1 means there is an edge between two nodes. We use the following class\n",
        "to store the information about the graph."
      ]
    },
    {
      "cell_type": "code",
      "execution_count": null,
      "metadata": {
        "id": "_tbcgctW2_8g"
      },
      "outputs": [],
      "source": [
        "\n",
        "class GraphInfo:\n",
        "    def __init__(self, edges: typing.Tuple[list, list], num_nodes: int):\n",
        "        self.edges = edges\n",
        "        self.num_nodes = num_nodes\n",
        "\n",
        "\n",
        "sigma2 = 0.1\n",
        "epsilon = 0.5\n",
        "adjacency_matrix = compute_adjacency_matrix(route_distances['Dağıtılan Enerji (MWh)'], sigma2, epsilon)\n",
        "node_indices, neighbor_indices = np.where(adjacency_matrix == 1)\n",
        "graph = GraphInfo(\n",
        "    edges=(node_indices.tolist(), neighbor_indices.tolist()),\n",
        "    num_nodes=adjacency_matrix.shape[0],\n",
        ")\n",
        "print(f\"number of nodes: {graph.num_nodes}, number of edges: {len(graph.edges[0])}\")"
      ]
    },
    {
      "cell_type": "code",
      "execution_count": null,
      "metadata": {},
      "outputs": [],
      "source": [
        "adjacency_matrix.shape"
      ]
    },
    {
      "cell_type": "markdown",
      "metadata": {
        "id": "tLKhnrxe2_8g"
      },
      "source": [
        "## Network architecture\n",
        "\n",
        "Our model for forecasting over the graph consists of a graph convolution\n",
        "layer and a LSTM layer."
      ]
    },
    {
      "cell_type": "markdown",
      "metadata": {
        "id": "SNX0sJdJ2_8g"
      },
      "source": [
        "### Graph convolution layer\n",
        "\n",
        "Our implementation of the graph convolution layer resembles the implementation\n",
        "in [this Keras example](https://keras.io/examples/graph/gnn_citations/). Note that\n",
        "in that example input to the layer is a 2D tensor of shape `(num_nodes,in_feat)`\n",
        "but in our example the input to the layer is a 4D tensor of shape\n",
        "`(num_nodes, batch_size, input_seq_length, in_feat)`. The graph convolution layer\n",
        "performs the following steps:\n",
        "\n",
        "- The nodes' representations are computed in `self.compute_nodes_representation()`\n",
        "by multiplying the input features by `self.weight`\n",
        "- The aggregated neighbors' messages are computed in `self.compute_aggregated_messages()`\n",
        "by first aggregating the neighbors' representations and then multiplying the results by\n",
        "`self.weight`\n",
        "- The final output of the layer is computed in `self.update()` by combining the nodes\n",
        "representations and the neighbors' aggregated messages"
      ]
    },
    {
      "cell_type": "code",
      "execution_count": null,
      "metadata": {
        "id": "LWKJROFN2_8g"
      },
      "outputs": [],
      "source": [
        "\n",
        "class GraphConv(layers.Layer):\n",
        "    def __init__(\n",
        "        self,\n",
        "        in_feat,\n",
        "        out_feat,\n",
        "        graph_info: GraphInfo,\n",
        "        aggregation_type=\"mean\",\n",
        "        combination_type=\"concat\",\n",
        "        activation: typing.Optional[str] = None,\n",
        "        **kwargs,\n",
        "    ):\n",
        "        super().__init__(**kwargs)\n",
        "        self.in_feat = in_feat\n",
        "        self.out_feat = out_feat\n",
        "        self.graph_info = graph_info\n",
        "        self.aggregation_type = aggregation_type\n",
        "        self.combination_type = combination_type\n",
        "        self.weight = tf.Variable(\n",
        "            initial_value=keras.initializers.glorot_uniform()(\n",
        "                shape=(in_feat, out_feat), dtype=\"float32\"\n",
        "            ),\n",
        "            trainable=True,\n",
        "        )\n",
        "        self.activation = layers.Activation(activation)\n",
        "\n",
        "    def aggregate(self, neighbour_representations: tf.Tensor):\n",
        "        aggregation_func = {\n",
        "            \"sum\": tf.math.unsorted_segment_sum,\n",
        "            \"mean\": tf.math.unsorted_segment_mean,\n",
        "            \"max\": tf.math.unsorted_segment_max,\n",
        "        }.get(self.aggregation_type)\n",
        "\n",
        "        if aggregation_func:\n",
        "            return aggregation_func(\n",
        "                neighbour_representations,\n",
        "                self.graph_info.edges[0],\n",
        "                num_segments=self.graph_info.num_nodes,\n",
        "            )\n",
        "\n",
        "        raise ValueError(f\"Invalid aggregation type: {self.aggregation_type}\")\n",
        "\n",
        "    def compute_nodes_representation(self, features: tf.Tensor):\n",
        "        \"\"\"Computes each node's representation.\n",
        "\n",
        "        The nodes' representations are obtained by multiplying the features tensor with\n",
        "        `self.weight`. Note that\n",
        "        `self.weight` has shape `(in_feat, out_feat)`.\n",
        "\n",
        "        Args:\n",
        "            features: Tensor of shape `(num_nodes, batch_size, input_seq_len, in_feat)`\n",
        "\n",
        "        Returns:\n",
        "            A tensor of shape `(num_nodes, batch_size, input_seq_len, out_feat)`\n",
        "        \"\"\"\n",
        "        return tf.matmul(features, self.weight)\n",
        "\n",
        "    def compute_aggregated_messages(self, features: tf.Tensor):\n",
        "        neighbour_representations = tf.gather(features, self.graph_info.edges[1])\n",
        "        aggregated_messages = self.aggregate(neighbour_representations)\n",
        "        return tf.matmul(aggregated_messages, self.weight)\n",
        "\n",
        "    def update(self, nodes_representation: tf.Tensor, aggregated_messages: tf.Tensor):\n",
        "        if self.combination_type == \"concat\":\n",
        "            h = tf.concat([nodes_representation, aggregated_messages], axis=-1)\n",
        "        elif self.combination_type == \"add\":\n",
        "            h = nodes_representation + aggregated_messages\n",
        "        else:\n",
        "            raise ValueError(f\"Invalid combination type: {self.combination_type}.\")\n",
        "\n",
        "        return self.activation(h)\n",
        "\n",
        "    def call(self, features: tf.Tensor):\n",
        "        \"\"\"Forward pass.\n",
        "\n",
        "        Args:\n",
        "            features: tensor of shape `(num_nodes, batch_size, input_seq_len, in_feat)`\n",
        "\n",
        "        Returns:\n",
        "            A tensor of shape `(num_nodes, batch_size, input_seq_len, out_feat)`\n",
        "        \"\"\"\n",
        "        nodes_representation = self.compute_nodes_representation(features)\n",
        "        aggregated_messages = self.compute_aggregated_messages(features)\n",
        "        return self.update(nodes_representation, aggregated_messages)\n"
      ]
    },
    {
      "cell_type": "markdown",
      "metadata": {
        "id": "slVTWnfA2_8g"
      },
      "source": [
        "### LSTM plus graph convolution\n",
        "\n",
        "By applying the graph convolution layer to the input tensor, we get another tensor\n",
        "containing the nodes' representations over time (another 4D tensor). For each time\n",
        "step, a node's representation is informed by the information from its neighbors.\n",
        "\n",
        "To make good forecasts, however, we need not only information from the neighbors\n",
        "but also we need to process the information over time. To this end, we can pass each\n",
        "node's tensor through a recurrent layer. The `LSTMGC` layer below, first applies\n",
        "a graph convolution layer to the inputs and then passes the results through a\n",
        "`LSTM` layer."
      ]
    },
    {
      "cell_type": "code",
      "execution_count": null,
      "metadata": {
        "id": "iEHkCpXu2_8g"
      },
      "outputs": [],
      "source": [
        "\n",
        "class LSTMGC(layers.Layer):\n",
        "    \"\"\"Layer comprising a convolution layer followed by LSTM and dense layers.\"\"\"\n",
        "\n",
        "    def __init__(\n",
        "        self,\n",
        "        in_feat,\n",
        "        out_feat,\n",
        "        lstm_units: int,\n",
        "        input_seq_len: int,\n",
        "        output_seq_len: int,\n",
        "        graph_info: GraphInfo,\n",
        "        graph_conv_params: typing.Optional[dict] = None,\n",
        "        **kwargs,\n",
        "    ):\n",
        "        super().__init__(**kwargs)\n",
        "\n",
        "        # graph conv layer\n",
        "        if graph_conv_params is None:\n",
        "            graph_conv_params = {\n",
        "                \"aggregation_type\": \"mean\",\n",
        "                \"combination_type\": \"concat\",\n",
        "                \"activation\": None,\n",
        "            }\n",
        "        self.graph_conv = GraphConv(in_feat, out_feat, graph_info, **graph_conv_params)\n",
        "\n",
        "        self.lstm = layers.LSTM(lstm_units, activation=\"relu\")\n",
        "        self.dense = layers.Dense(output_seq_len)\n",
        "\n",
        "        self.input_seq_len, self.output_seq_len = input_seq_len, output_seq_len\n",
        "\n",
        "    def call(self, inputs):\n",
        "        \"\"\"Forward pass.\n",
        "\n",
        "        Args:\n",
        "            inputs: tf.Tensor of shape `(batch_size, input_seq_len, num_nodes, in_feat)`\n",
        "\n",
        "        Returns:\n",
        "            A tensor of shape `(batch_size, output_seq_len, num_nodes)`.\n",
        "        \"\"\"\n",
        "\n",
        "        # convert shape to  (num_nodes, batch_size, input_seq_len, in_feat)\n",
        "        inputs = tf.transpose(inputs, [2, 0, 1, 3])\n",
        "\n",
        "        gcn_out = self.graph_conv(\n",
        "            inputs\n",
        "        )  # gcn_out has shape: (num_nodes, batch_size, input_seq_len, out_feat)\n",
        "        shape = tf.shape(gcn_out)\n",
        "        num_nodes, batch_size, input_seq_len, out_feat = (\n",
        "            shape[0],\n",
        "            shape[1],\n",
        "            shape[2],\n",
        "            shape[3],\n",
        "        )\n",
        "\n",
        "        # LSTM takes only 3D tensors as input\n",
        "        gcn_out = tf.reshape(gcn_out, (batch_size * num_nodes, input_seq_len, out_feat))\n",
        "        lstm_out = self.lstm(\n",
        "            gcn_out\n",
        "        )  # lstm_out has shape: (batch_size * num_nodes, lstm_units)\n",
        "\n",
        "        dense_output = self.dense(\n",
        "            lstm_out\n",
        "        )  # dense_output has shape: (batch_size * num_nodes, output_seq_len)\n",
        "        output = tf.reshape(dense_output, (num_nodes, batch_size, self.output_seq_len))\n",
        "        return tf.transpose(\n",
        "            output, [1, 2, 0]\n",
        "        )  # returns Tensor of shape (batch_size, output_seq_len, num_nodes)\n"
      ]
    },
    {
      "cell_type": "markdown",
      "metadata": {
        "id": "dAXsSaAp2_8h"
      },
      "source": [
        "## Model training"
      ]
    },
    {
      "cell_type": "code",
      "execution_count": null,
      "metadata": {
        "id": "W_v59Epn2_8h"
      },
      "outputs": [],
      "source": [
        "in_feat = 1\n",
        "batch_size = 64\n",
        "epochs = 20\n",
        "input_sequence_length = 24\n",
        "forecast_horizon = 3\n",
        "multi_horizon = False\n",
        "out_feat = 10\n",
        "lstm_units = 64\n",
        "graph_conv_params = {\n",
        "    \"aggregation_type\": \"mean\",\n",
        "    \"combination_type\": \"concat\",\n",
        "    \"activation\": None,\n",
        "}\n",
        "\n",
        "st_gcn = LSTMGC(\n",
        "    in_feat,\n",
        "    out_feat,\n",
        "    lstm_units,\n",
        "    input_sequence_length,\n",
        "    forecast_horizon,\n",
        "    graph,\n",
        "    graph_conv_params,\n",
        ")\n",
        "inputs = layers.Input((input_sequence_length, graph.num_nodes, in_feat))\n",
        "outputs = st_gcn(inputs)\n",
        "\n",
        "model = keras.models.Model(inputs, outputs)\n",
        "model.compile(\n",
        "    optimizer=keras.optimizers.RMSprop(learning_rate=0.0002),\n",
        "    loss=keras.losses.MeanSquaredError(),\n",
        ")\n",
        "model.fit(\n",
        "    train_dataset,\n",
        "    validation_data=val_dataset,\n",
        "    epochs=epochs,\n",
        "    callbacks=[keras.callbacks.EarlyStopping(patience=10)],\n",
        ")"
      ]
    },
    {
      "cell_type": "markdown",
      "metadata": {
        "id": "tsMqgERi2_8h"
      },
      "source": [
        "## Making forecasts on test set\n",
        "\n",
        "Now we can use the trained model to make forecasts for the test set. Below, we\n",
        "compute the MAE of the model and compare it to the MAE of naive forecasts.\n",
        "The naive forecasts are the last value of the speed for each node."
      ]
    },
    {
      "cell_type": "code",
      "execution_count": null,
      "metadata": {
        "id": "bGJ8W_VN2_8h"
      },
      "outputs": [],
      "source": [
        "x_test, y = next(test_dataset.as_numpy_iterator())\n",
        "y_pred = model.predict(x_test)\n",
        "plt.figure(figsize=(18, 6))\n",
        "plt.plot(y[:, 0, 0])\n",
        "plt.plot(y_pred[:, 0, 0])\n",
        "plt.legend([\"actual\", \"forecast\"])\n",
        "\n",
        "naive_mse, model_mse = (\n",
        "    np.square(x_test[:, -1, :, 0] - y[:, 0, :]).mean(),\n",
        "    np.square(y_pred[:, 0, :] - y[:, 0, :]).mean(),\n",
        ")\n",
        "print(f\"naive MAE: {naive_mse}, model MAE: {model_mse}\")"
      ]
    },
    {
      "cell_type": "markdown",
      "metadata": {
        "id": "Xz8JOFPr2_8h"
      },
      "source": [
        "Of course, the goal here is to demonstrate the method,\n",
        "not to achieve the best performance. To improve the\n",
        "model's accuracy, all model hyperparameters should be tuned carefully. In addition,\n",
        "several of the `LSTMGC` blocks can be stacked to increase the representation power\n",
        "of the model."
      ]
    }
  ],
  "metadata": {
    "accelerator": "GPU",
    "colab": {
      "name": "timeseries_traffic_forecasting",
      "provenance": [],
      "toc_visible": true
    },
    "kernelspec": {
      "display_name": "Python 3",
      "language": "python",
      "name": "python3"
    },
    "language_info": {
      "codemirror_mode": {
        "name": "ipython",
        "version": 3
      },
      "file_extension": ".py",
      "mimetype": "text/x-python",
      "name": "python",
      "nbconvert_exporter": "python",
      "pygments_lexer": "ipython3",
      "version": "3.10.10"
    }
  },
  "nbformat": 4,
  "nbformat_minor": 0
}
